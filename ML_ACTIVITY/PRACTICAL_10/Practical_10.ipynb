{
 "cells": [
  {
   "cell_type": "code",
   "execution_count": 9,
   "id": "fa56afc2-3a63-4792-a48d-fa49a589066a",
   "metadata": {},
   "outputs": [],
   "source": [
    "import pandas as pd\n",
    "from sklearn.model_selection import train_test_split\n",
    "from sklearn.feature_extraction.text import CountVectorizer\n",
    "from sklearn.neural_network import MLPClassifier\n",
    "from sklearn.metrics import accuracy_score, confusion_matrix, precision_score, recall_score"
   ]
  },
  {
   "cell_type": "code",
   "execution_count": 10,
   "id": "81be26bb-0346-42ae-820c-624511f655c0",
   "metadata": {},
   "outputs": [
    {
     "name": "stdout",
     "output_type": "stream",
     "text": [
      "Initial dataset shape:  (18, 2)\n",
      "Dataset shape after removing NaN labels:  (18, 2)\n",
      "Dataset shape after removing NaN labelnum:  (17, 3)\n"
     ]
    }
   ],
   "source": [
    "msglbl_data = pd.read_csv('C:/Users/Asus/Downloads/Statements_data.csv', names=['Message', 'Label'])\n",
    "print(\"Initial dataset shape: \", msglbl_data.shape)\n",
    "msglbl_data = msglbl_data.dropna(subset=['Label'])\n",
    "print(\"Dataset shape after removing NaN labels: \", msglbl_data.shape)\n",
    "msglbl_data['labelnum'] = msglbl_data.Label.map({'pos': 1, 'neg': 0})\n",
    "msglbl_data = msglbl_data.dropna(subset=['labelnum'])\n",
    "print(\"Dataset shape after removing NaN labelnum: \", msglbl_data.shape)\n",
    "if msglbl_data.shape[0] == 0:\n",
    "    print(\"The dataset is empty after cleaning. Please check the data.\")\n",
    "else:\n",
    "    X = msglbl_data[\"Message\"]\n",
    "    Y = msglbl_data.labelnum\n",
    "    Xtrain, Xtest, Ytrain, Ytest = train_test_split(X, Y, test_size=0.2, random_state=42)"
   ]
  },
  {
   "cell_type": "code",
   "execution_count": 11,
   "id": "0e75484f-43f7-4a28-a8eb-27852f7639c3",
   "metadata": {},
   "outputs": [
    {
     "name": "stdout",
     "output_type": "stream",
     "text": [
      "******** Accuracy Metrics *********\n",
      "Accuracy :  0.75\n",
      "Recall :  0.6666666666666666\n",
      "Precision :  1.0\n",
      "Confusion Matrix : \n",
      " [[1 0]\n",
      " [1 2]]\n",
      "----------\n"
     ]
    },
    {
     "name": "stdin",
     "output_type": "stream",
     "text": [
      "Enter any statement to predict:  I feel very happy\n"
     ]
    },
    {
     "name": "stdout",
     "output_type": "stream",
     "text": [
      "Statement: 'I feel very happy' is Positive\n"
     ]
    }
   ],
   "source": [
    "count_vect = CountVectorizer()\n",
    "Xtrain_dims = count_vect.fit_transform(Xtrain)\n",
    "Xtest_dims = count_vect.transform(Xtest)\n",
    "clf = MLPClassifier(solver='lbfgs', alpha=1e-5, hidden_layer_sizes=(5, 2), random_state=1)\n",
    "clf.fit(Xtrain_dims, Ytrain)\n",
    "prediction = clf.predict(Xtest_dims)\n",
    "print('******** Accuracy Metrics *********')\n",
    "print('Accuracy : ', accuracy_score(Ytest, prediction)) \n",
    "print('Recall : ', recall_score(Ytest, prediction)) \n",
    "print('Precision : ', precision_score(Ytest, prediction))\n",
    "print('Confusion Matrix : \\n', confusion_matrix(Ytest, prediction))\n",
    "print(10 * \"-\")\n",
    "test_stmt = [input(\"Enter any statement to predict: \")]\n",
    "test_dims = count_vect.transform(test_stmt) \n",
    "pred = clf.predict(test_dims) \n",
    "for stmt, lbl in zip(test_stmt, pred):\n",
    "   if lbl == 1:\n",
    "      print(f\"Statement: '{stmt}' is Positive\")\n",
    "   else:\n",
    "      print(f\"Statement: '{stmt}' is Negative\")"
   ]
  }
 ],
 "metadata": {
  "kernelspec": {
   "display_name": "Python [conda env:base] *",
   "language": "python",
   "name": "conda-base-py"
  },
  "language_info": {
   "codemirror_mode": {
    "name": "ipython",
    "version": 3
   },
   "file_extension": ".py",
   "mimetype": "text/x-python",
   "name": "python",
   "nbconvert_exporter": "python",
   "pygments_lexer": "ipython3",
   "version": "3.12.7"
  }
 },
 "nbformat": 4,
 "nbformat_minor": 5
}
